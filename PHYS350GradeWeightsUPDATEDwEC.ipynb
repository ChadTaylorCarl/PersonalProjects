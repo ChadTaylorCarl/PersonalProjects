{
  "nbformat": 4,
  "nbformat_minor": 0,
  "metadata": {
    "colab": {
      "provenance": [],
      "authorship_tag": "ABX9TyPiaBP7Ep28IMxyX3jx9x1W",
      "include_colab_link": true
    },
    "kernelspec": {
      "name": "python3",
      "display_name": "Python 3"
    },
    "language_info": {
      "name": "python"
    }
  },
  "cells": [
    {
      "cell_type": "markdown",
      "metadata": {
        "id": "view-in-github",
        "colab_type": "text"
      },
      "source": [
        "<a href=\"https://colab.research.google.com/github/ChadTaylorCarl/PersonalProjects/blob/main/PHYS350GradeWeightsUPDATEDwEC.ipynb\" target=\"_parent\"><img src=\"https://colab.research.google.com/assets/colab-badge.svg\" alt=\"Open In Colab\"/></a>"
      ]
    },
    {
      "cell_type": "code",
      "source": [
        "def calculate_weighted_score_and_grade(test_scores, quiz_scores, final_exam_score, extra_credit_points=0):\n",
        "\n",
        "    best_three_tests = sorted(test_scores, reverse=True)[:3]\n",
        "    average_best_three_tests = sum(best_three_tests) / 3\n",
        "\n",
        "\n",
        "    extra_credit_points = min(extra_credit_points, 5)\n",
        "    average_best_three_tests += extra_credit_points\n",
        "\n",
        "\n",
        "    best_four_quizzes = sorted(quiz_scores, reverse=True)[:4]\n",
        "    average_best_four_quizzes = sum(best_four_quizzes) / 4\n",
        "\n",
        "\n",
        "    weighted_score = (average_best_three_tests * 0.60) + (average_best_four_quizzes * 0.20) + (final_exam_score * 0.20)\n",
        "\n",
        "\n",
        "    grade = calculate_grade(weighted_score)\n",
        "\n",
        "    return weighted_score, grade\n",
        "\n",
        "def calculate_grade(weighted_score):\n",
        "\n",
        "    if weighted_score >= 90:\n",
        "        return 'A'\n",
        "    elif 85 <= weighted_score < 90:\n",
        "        return 'A-'\n",
        "    elif 80 <= weighted_score < 85:\n",
        "        return 'B+'\n",
        "    elif 75 <= weighted_score < 80:\n",
        "        return 'B'\n",
        "    elif 70 <= weighted_score < 75:\n",
        "        return 'B-'\n",
        "    elif 65 <= weighted_score < 70:\n",
        "        return 'C+'\n",
        "    elif 60 <= weighted_score < 65:\n",
        "        return 'C'\n",
        "    elif 55 <= weighted_score < 60:\n",
        "        return 'C-'\n",
        "    elif 50 <= weighted_score < 55:\n",
        "        return 'D+'\n",
        "    elif 45 <= weighted_score < 50:\n",
        "        return 'D'\n",
        "    elif 40 <= weighted_score < 45:\n",
        "        return 'D-'\n",
        "    else:\n",
        "        return 'F'\n",
        "\n",
        "# Input your scores in the format as below\n",
        "test_scores_example = [7, 58, 49, 61]\n",
        "quiz_scores_example = [44, 87, 100, 95, 81]\n",
        "final_exam_score_example = 78\n",
        "extra_credit_points_example = 5\n",
        "\n",
        "\n",
        "weighted_score_and_grade_with_extra_credit = calculate_weighted_score_and_grade(test_scores_example, quiz_scores_example, final_exam_score_example, extra_credit_points_example)\n",
        "weighted_score_and_grade_with_extra_credit\n"
      ],
      "metadata": {
        "colab": {
          "base_uri": "https://localhost:8080/"
        },
        "id": "zuxD2EbUbH5w",
        "outputId": "45201b7a-34d2-48b5-ba46-9ee0c2e3c311"
      },
      "execution_count": 15,
      "outputs": [
        {
          "output_type": "execute_result",
          "data": {
            "text/plain": [
              "(70.35, 'B-')"
            ]
          },
          "metadata": {},
          "execution_count": 15
        }
      ]
    }
  ]
}