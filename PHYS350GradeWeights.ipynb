{
  "nbformat": 4,
  "nbformat_minor": 0,
  "metadata": {
    "colab": {
      "provenance": []
    },
    "kernelspec": {
      "name": "python3",
      "display_name": "Python 3"
    },
    "language_info": {
      "name": "python"
    }
  },
  "cells": [
    {
      "cell_type": "code",
      "execution_count": 8,
      "metadata": {
        "colab": {
          "base_uri": "https://localhost:8080/"
        },
        "id": "SDu7IRg3swBN",
        "outputId": "c9635c22-0616-47f3-ce97-fd8d25bf367d"
      },
      "outputs": [
        {
          "output_type": "execute_result",
          "data": {
            "text/plain": [
              "60.900000000000006"
            ]
          },
          "metadata": {},
          "execution_count": 8
        }
      ],
      "source": [
        "def calculate_weighted_score(test_scores, quiz_scores, final_exam_score):\n",
        "\n",
        "    best_three_tests = sorted(test_scores, reverse=True)[:3]\n",
        "    average_best_three_tests = sum(best_three_tests) / 3\n",
        "\n",
        "    best_four_quizzes = sorted(quiz_scores, reverse=True)[:4]\n",
        "    average_best_four_quizzes = sum(best_four_quizzes) / 4\n",
        "\n",
        "    weighted_score = (average_best_three_tests * 0.60) + (average_best_four_quizzes * 0.20) + (final_exam_score * 0.20)\n",
        "\n",
        "    return weighted_score\n",
        "\n",
        "test_scores_example = [7, 58, 49, 58]\n",
        "quiz_scores_example = [44, 87, 100, 91, 80]\n",
        "final_exam_score_example = 50\n",
        "\n",
        "weighted_score_example = calculate_weighted_score(test_scores_example, quiz_scores_example, final_exam_score_example)\n",
        "weighted_score_example\n"
      ]
    }
  ]
}